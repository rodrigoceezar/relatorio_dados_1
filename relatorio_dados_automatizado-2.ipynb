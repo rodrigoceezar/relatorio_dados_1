{
 "cells": [
  {
   "cell_type": "markdown",
   "id": "71e46421",
   "metadata": {},
   "source": [
    "### Instalando e Importando bibliotecas"
   ]
  },
  {
   "cell_type": "code",
   "execution_count": 33,
   "id": "78a7961c",
   "metadata": {},
   "outputs": [],
   "source": [
    "# !pip install inflection\n",
    "# !pip install seaborn\n",
    "# !pip install openpyxl"
   ]
  },
  {
   "cell_type": "code",
   "execution_count": 34,
   "id": "1b4b314c",
   "metadata": {},
   "outputs": [],
   "source": [
    "import pandas as pd\n",
    "from openpyxl import Workbook\n",
    "import inflection\n",
    "\n",
    "import seaborn as sns\n",
    "import matplotlib.pyplot as plt\n",
    "import plotly.express as px\n",
    "\n",
    "import re"
   ]
  },
  {
   "cell_type": "code",
   "execution_count": 35,
   "id": "759e1fe6",
   "metadata": {},
   "outputs": [],
   "source": [
    "df = pd.read_csv('data/base2.csv')"
   ]
  },
  {
   "cell_type": "markdown",
   "id": "17c6b0eb",
   "metadata": {},
   "source": [
    "### Visualizando os dados\n"
   ]
  },
  {
   "cell_type": "code",
   "execution_count": 36,
   "id": "e74b0c43",
   "metadata": {},
   "outputs": [
    {
     "data": {
      "text/html": [
       "<div>\n",
       "<style scoped>\n",
       "    .dataframe tbody tr th:only-of-type {\n",
       "        vertical-align: middle;\n",
       "    }\n",
       "\n",
       "    .dataframe tbody tr th {\n",
       "        vertical-align: top;\n",
       "    }\n",
       "\n",
       "    .dataframe thead th {\n",
       "        text-align: right;\n",
       "    }\n",
       "</style>\n",
       "<table border=\"1\" class=\"dataframe\">\n",
       "  <thead>\n",
       "    <tr style=\"text-align: right;\">\n",
       "      <th></th>\n",
       "      <th>Nome da Propriedade</th>\n",
       "      <th>Sede</th>\n",
       "      <th>Municipio</th>\n",
       "      <th>Coordenadas X</th>\n",
       "      <th>Coordenadas Y</th>\n",
       "    </tr>\n",
       "  </thead>\n",
       "  <tbody>\n",
       "    <tr>\n",
       "      <th>0</th>\n",
       "      <td>Fazenda Paz de Deus</td>\n",
       "      <td>Sede A</td>\n",
       "      <td>Paragominas</td>\n",
       "      <td>02º 59' 45\" S</td>\n",
       "      <td>47º 21' 10\" W</td>\n",
       "    </tr>\n",
       "    <tr>\n",
       "      <th>1</th>\n",
       "      <td>Chacara Rodrigues</td>\n",
       "      <td>Sede A</td>\n",
       "      <td>Breves</td>\n",
       "      <td>1° 40′ 57″ S</td>\n",
       "      <td>50° 28′ 51″ O</td>\n",
       "    </tr>\n",
       "    <tr>\n",
       "      <th>2</th>\n",
       "      <td>Rancho Montenegro</td>\n",
       "      <td>Sede A</td>\n",
       "      <td>Castanhal</td>\n",
       "      <td>01º 17' 38\" S</td>\n",
       "      <td>47º 55' 35\" W</td>\n",
       "    </tr>\n",
       "    <tr>\n",
       "      <th>3</th>\n",
       "      <td>Fazenda Fe em Deus</td>\n",
       "      <td>Sede A</td>\n",
       "      <td>Castanhal</td>\n",
       "      <td>01º 17' 38\" S</td>\n",
       "      <td>47º 55' 35\" W</td>\n",
       "    </tr>\n",
       "    <tr>\n",
       "      <th>4</th>\n",
       "      <td>Fazenda 3 Marias</td>\n",
       "      <td>Sede A</td>\n",
       "      <td>Castanhal</td>\n",
       "      <td>01º 17' 38\" S</td>\n",
       "      <td>47º 55' 35\" W</td>\n",
       "    </tr>\n",
       "  </tbody>\n",
       "</table>\n",
       "</div>"
      ],
      "text/plain": [
       "   Nome da Propriedade    Sede    Municipio  Coordenadas X  Coordenadas Y\n",
       "0  Fazenda Paz de Deus  Sede A  Paragominas  02º 59' 45\" S  47º 21' 10\" W\n",
       "1    Chacara Rodrigues  Sede A       Breves   1° 40′ 57″ S  50° 28′ 51″ O\n",
       "2    Rancho Montenegro  Sede A    Castanhal  01º 17' 38\" S  47º 55' 35\" W\n",
       "3   Fazenda Fe em Deus  Sede A    Castanhal  01º 17' 38\" S  47º 55' 35\" W\n",
       "4     Fazenda 3 Marias  Sede A    Castanhal  01º 17' 38\" S  47º 55' 35\" W"
      ]
     },
     "execution_count": 36,
     "metadata": {},
     "output_type": "execute_result"
    }
   ],
   "source": [
    "df.head()"
   ]
  },
  {
   "cell_type": "code",
   "execution_count": 37,
   "id": "024e031a",
   "metadata": {},
   "outputs": [
    {
     "name": "stdout",
     "output_type": "stream",
     "text": [
      "<class 'pandas.core.frame.DataFrame'>\n",
      "RangeIndex: 24 entries, 0 to 23\n",
      "Data columns (total 5 columns):\n",
      " #   Column               Non-Null Count  Dtype \n",
      "---  ------               --------------  ----- \n",
      " 0   Nome da Propriedade  24 non-null     object\n",
      " 1   Sede                 24 non-null     object\n",
      " 2   Municipio            24 non-null     object\n",
      " 3   Coordenadas X        16 non-null     object\n",
      " 4   Coordenadas Y        16 non-null     object\n",
      "dtypes: object(5)\n",
      "memory usage: 1.1+ KB\n"
     ]
    }
   ],
   "source": [
    "df.info()"
   ]
  },
  {
   "cell_type": "markdown",
   "id": "ba1ef1a2",
   "metadata": {},
   "source": [
    "### Tratamento e Manipulação dos Dados"
   ]
  },
  {
   "cell_type": "code",
   "execution_count": 38,
   "id": "cb9f8eea",
   "metadata": {},
   "outputs": [],
   "source": [
    "# Tratamento nome das colunas\n",
    "df.columns\n",
    "\n",
    "colunas = ['Nome da Propriedade', 'Sede', 'Municipio', 'Coordenadas X',\n",
    "       'Coordenadas Y']\n",
    "\n",
    "\n",
    "snake_case_colunas = [coluna.replace(' ', '_').lower() for coluna in colunas]\n",
    "\n",
    "df.columns = snake_case_colunas"
   ]
  },
  {
   "cell_type": "code",
   "execution_count": 39,
   "id": "878f3553",
   "metadata": {},
   "outputs": [
    {
     "data": {
      "text/plain": [
       "Index(['nome_da_propriedade', 'sede', 'municipio', 'coordenadas_x',\n",
       "       'coordenadas_y'],\n",
       "      dtype='object')"
      ]
     },
     "execution_count": 39,
     "metadata": {},
     "output_type": "execute_result"
    }
   ],
   "source": [
    "df.columns"
   ]
  },
  {
   "cell_type": "code",
   "execution_count": 40,
   "id": "e9ce1ead",
   "metadata": {},
   "outputs": [],
   "source": [
    "df1 = df.copy()"
   ]
  },
  {
   "cell_type": "code",
   "execution_count": 41,
   "id": "f2b9de68",
   "metadata": {},
   "outputs": [
    {
     "data": {
      "text/html": [
       "<div>\n",
       "<style scoped>\n",
       "    .dataframe tbody tr th:only-of-type {\n",
       "        vertical-align: middle;\n",
       "    }\n",
       "\n",
       "    .dataframe tbody tr th {\n",
       "        vertical-align: top;\n",
       "    }\n",
       "\n",
       "    .dataframe thead th {\n",
       "        text-align: right;\n",
       "    }\n",
       "</style>\n",
       "<table border=\"1\" class=\"dataframe\">\n",
       "  <thead>\n",
       "    <tr style=\"text-align: right;\">\n",
       "      <th></th>\n",
       "      <th>coordenadas_x</th>\n",
       "      <th>coordenadas_y</th>\n",
       "    </tr>\n",
       "  </thead>\n",
       "  <tbody>\n",
       "    <tr>\n",
       "      <th>0</th>\n",
       "      <td>02º 59' 45\" S</td>\n",
       "      <td>47º 21' 10\" W</td>\n",
       "    </tr>\n",
       "    <tr>\n",
       "      <th>1</th>\n",
       "      <td>1° 40′ 57″ S</td>\n",
       "      <td>50° 28′ 51″ O</td>\n",
       "    </tr>\n",
       "    <tr>\n",
       "      <th>2</th>\n",
       "      <td>01º 17' 38\" S</td>\n",
       "      <td>47º 55' 35\" W</td>\n",
       "    </tr>\n",
       "    <tr>\n",
       "      <th>3</th>\n",
       "      <td>01º 17' 38\" S</td>\n",
       "      <td>47º 55' 35\" W</td>\n",
       "    </tr>\n",
       "    <tr>\n",
       "      <th>4</th>\n",
       "      <td>01º 17' 38\" S</td>\n",
       "      <td>47º 55' 35\" W</td>\n",
       "    </tr>\n",
       "  </tbody>\n",
       "</table>\n",
       "</div>"
      ],
      "text/plain": [
       "   coordenadas_x  coordenadas_y\n",
       "0  02º 59' 45\" S  47º 21' 10\" W\n",
       "1   1° 40′ 57″ S  50° 28′ 51″ O\n",
       "2  01º 17' 38\" S  47º 55' 35\" W\n",
       "3  01º 17' 38\" S  47º 55' 35\" W\n",
       "4  01º 17' 38\" S  47º 55' 35\" W"
      ]
     },
     "execution_count": 41,
     "metadata": {},
     "output_type": "execute_result"
    }
   ],
   "source": [
    "# Verificando as colunas de coordenadas\n",
    "df1[['coordenadas_x', 'coordenadas_y']].head()"
   ]
  },
  {
   "cell_type": "code",
   "execution_count": 42,
   "id": "6ee2aecc",
   "metadata": {},
   "outputs": [],
   "source": [
    "def remove_special_characters(text):\n",
    "    pattern = r'[°\\'\"]'\n",
    "    cleaned_text = re.sub(pattern, '', text)\n",
    "    return cleaned_text"
   ]
  },
  {
   "cell_type": "code",
   "execution_count": 43,
   "id": "62d2dd1b",
   "metadata": {},
   "outputs": [],
   "source": [
    "df1.coordenadas_x = df1.coordenadas_x.replace('[\\D+]',' ',regex=True)"
   ]
  },
  {
   "cell_type": "code",
   "execution_count": 44,
   "id": "c104fae0",
   "metadata": {},
   "outputs": [],
   "source": [
    "df1.coordenadas_y = df1.coordenadas_x.replace('[\\D+]',' ',regex=True)"
   ]
  },
  {
   "cell_type": "code",
   "execution_count": 45,
   "id": "391eda97",
   "metadata": {},
   "outputs": [
    {
     "data": {
      "text/html": [
       "<div>\n",
       "<style scoped>\n",
       "    .dataframe tbody tr th:only-of-type {\n",
       "        vertical-align: middle;\n",
       "    }\n",
       "\n",
       "    .dataframe tbody tr th {\n",
       "        vertical-align: top;\n",
       "    }\n",
       "\n",
       "    .dataframe thead th {\n",
       "        text-align: right;\n",
       "    }\n",
       "</style>\n",
       "<table border=\"1\" class=\"dataframe\">\n",
       "  <thead>\n",
       "    <tr style=\"text-align: right;\">\n",
       "      <th></th>\n",
       "      <th>nome_da_propriedade</th>\n",
       "      <th>sede</th>\n",
       "      <th>municipio</th>\n",
       "      <th>coordenadas_x</th>\n",
       "      <th>coordenadas_y</th>\n",
       "    </tr>\n",
       "  </thead>\n",
       "  <tbody>\n",
       "    <tr>\n",
       "      <th>0</th>\n",
       "      <td>Fazenda Paz de Deus</td>\n",
       "      <td>Sede A</td>\n",
       "      <td>Paragominas</td>\n",
       "      <td>02  59  45</td>\n",
       "      <td>02  59  45</td>\n",
       "    </tr>\n",
       "    <tr>\n",
       "      <th>1</th>\n",
       "      <td>Chacara Rodrigues</td>\n",
       "      <td>Sede A</td>\n",
       "      <td>Breves</td>\n",
       "      <td>1  40  57</td>\n",
       "      <td>1  40  57</td>\n",
       "    </tr>\n",
       "    <tr>\n",
       "      <th>2</th>\n",
       "      <td>Rancho Montenegro</td>\n",
       "      <td>Sede A</td>\n",
       "      <td>Castanhal</td>\n",
       "      <td>01  17  38</td>\n",
       "      <td>01  17  38</td>\n",
       "    </tr>\n",
       "    <tr>\n",
       "      <th>3</th>\n",
       "      <td>Fazenda Fe em Deus</td>\n",
       "      <td>Sede A</td>\n",
       "      <td>Castanhal</td>\n",
       "      <td>01  17  38</td>\n",
       "      <td>01  17  38</td>\n",
       "    </tr>\n",
       "    <tr>\n",
       "      <th>4</th>\n",
       "      <td>Fazenda 3 Marias</td>\n",
       "      <td>Sede A</td>\n",
       "      <td>Castanhal</td>\n",
       "      <td>01  17  38</td>\n",
       "      <td>01  17  38</td>\n",
       "    </tr>\n",
       "  </tbody>\n",
       "</table>\n",
       "</div>"
      ],
      "text/plain": [
       "   nome_da_propriedade    sede    municipio  coordenadas_x  coordenadas_y\n",
       "0  Fazenda Paz de Deus  Sede A  Paragominas  02  59  45     02  59  45   \n",
       "1    Chacara Rodrigues  Sede A       Breves   1  40  57      1  40  57   \n",
       "2    Rancho Montenegro  Sede A    Castanhal  01  17  38     01  17  38   \n",
       "3   Fazenda Fe em Deus  Sede A    Castanhal  01  17  38     01  17  38   \n",
       "4     Fazenda 3 Marias  Sede A    Castanhal  01  17  38     01  17  38   "
      ]
     },
     "execution_count": 45,
     "metadata": {},
     "output_type": "execute_result"
    }
   ],
   "source": [
    "df1.head()"
   ]
  },
  {
   "cell_type": "code",
   "execution_count": 46,
   "id": "c4086a28",
   "metadata": {},
   "outputs": [],
   "source": [
    "df1.coordenadas_x = df1.coordenadas_x.str.replace(' ','')\n",
    "df1.coordenadas_y = df1.coordenadas_y.str.replace(' ','')"
   ]
  },
  {
   "cell_type": "code",
   "execution_count": 47,
   "id": "163aa20d",
   "metadata": {},
   "outputs": [],
   "source": [
    "df1.coordenadas_x = df1.coordenadas_x.fillna(0)\n",
    "df1.coordenadas_y = df1.coordenadas_x.fillna(0)"
   ]
  },
  {
   "cell_type": "code",
   "execution_count": 48,
   "id": "6db98b63",
   "metadata": {},
   "outputs": [
    {
     "data": {
      "text/html": [
       "<div>\n",
       "<style scoped>\n",
       "    .dataframe tbody tr th:only-of-type {\n",
       "        vertical-align: middle;\n",
       "    }\n",
       "\n",
       "    .dataframe tbody tr th {\n",
       "        vertical-align: top;\n",
       "    }\n",
       "\n",
       "    .dataframe thead th {\n",
       "        text-align: right;\n",
       "    }\n",
       "</style>\n",
       "<table border=\"1\" class=\"dataframe\">\n",
       "  <thead>\n",
       "    <tr style=\"text-align: right;\">\n",
       "      <th></th>\n",
       "      <th>nome_da_propriedade</th>\n",
       "      <th>sede</th>\n",
       "      <th>municipio</th>\n",
       "      <th>coordenadas_x</th>\n",
       "      <th>coordenadas_y</th>\n",
       "    </tr>\n",
       "  </thead>\n",
       "  <tbody>\n",
       "    <tr>\n",
       "      <th>0</th>\n",
       "      <td>Fazenda Paz de Deus</td>\n",
       "      <td>Sede A</td>\n",
       "      <td>Paragominas</td>\n",
       "      <td>025945</td>\n",
       "      <td>025945</td>\n",
       "    </tr>\n",
       "    <tr>\n",
       "      <th>1</th>\n",
       "      <td>Chacara Rodrigues</td>\n",
       "      <td>Sede A</td>\n",
       "      <td>Breves</td>\n",
       "      <td>14057</td>\n",
       "      <td>14057</td>\n",
       "    </tr>\n",
       "    <tr>\n",
       "      <th>2</th>\n",
       "      <td>Rancho Montenegro</td>\n",
       "      <td>Sede A</td>\n",
       "      <td>Castanhal</td>\n",
       "      <td>011738</td>\n",
       "      <td>011738</td>\n",
       "    </tr>\n",
       "    <tr>\n",
       "      <th>3</th>\n",
       "      <td>Fazenda Fe em Deus</td>\n",
       "      <td>Sede A</td>\n",
       "      <td>Castanhal</td>\n",
       "      <td>011738</td>\n",
       "      <td>011738</td>\n",
       "    </tr>\n",
       "    <tr>\n",
       "      <th>4</th>\n",
       "      <td>Fazenda 3 Marias</td>\n",
       "      <td>Sede A</td>\n",
       "      <td>Castanhal</td>\n",
       "      <td>011738</td>\n",
       "      <td>011738</td>\n",
       "    </tr>\n",
       "    <tr>\n",
       "      <th>5</th>\n",
       "      <td>Fazenda Esperança</td>\n",
       "      <td>Sede A</td>\n",
       "      <td>Castanhal</td>\n",
       "      <td>0</td>\n",
       "      <td>0</td>\n",
       "    </tr>\n",
       "    <tr>\n",
       "      <th>6</th>\n",
       "      <td>Fazenda Nonato</td>\n",
       "      <td>Sede A</td>\n",
       "      <td>Castanhal</td>\n",
       "      <td>0</td>\n",
       "      <td>0</td>\n",
       "    </tr>\n",
       "    <tr>\n",
       "      <th>7</th>\n",
       "      <td>Fazenda Liberdade</td>\n",
       "      <td>Sede A</td>\n",
       "      <td>Breves</td>\n",
       "      <td>14057</td>\n",
       "      <td>14057</td>\n",
       "    </tr>\n",
       "    <tr>\n",
       "      <th>8</th>\n",
       "      <td>Fazenda 2 Irmaos</td>\n",
       "      <td>Sede A</td>\n",
       "      <td>Oriximiná</td>\n",
       "      <td>014556</td>\n",
       "      <td>014556</td>\n",
       "    </tr>\n",
       "    <tr>\n",
       "      <th>9</th>\n",
       "      <td>Chacara Monte Alto</td>\n",
       "      <td>Sede A</td>\n",
       "      <td>Oriximiná</td>\n",
       "      <td>014556</td>\n",
       "      <td>014556</td>\n",
       "    </tr>\n",
       "  </tbody>\n",
       "</table>\n",
       "</div>"
      ],
      "text/plain": [
       "   nome_da_propriedade    sede    municipio coordenadas_x coordenadas_y\n",
       "0  Fazenda Paz de Deus  Sede A  Paragominas        025945        025945\n",
       "1    Chacara Rodrigues  Sede A       Breves         14057         14057\n",
       "2    Rancho Montenegro  Sede A    Castanhal        011738        011738\n",
       "3   Fazenda Fe em Deus  Sede A    Castanhal        011738        011738\n",
       "4     Fazenda 3 Marias  Sede A    Castanhal        011738        011738\n",
       "5    Fazenda Esperança  Sede A    Castanhal             0             0\n",
       "6       Fazenda Nonato  Sede A    Castanhal             0             0\n",
       "7    Fazenda Liberdade  Sede A       Breves         14057         14057\n",
       "8     Fazenda 2 Irmaos  Sede A    Oriximiná        014556        014556\n",
       "9   Chacara Monte Alto  Sede A    Oriximiná        014556        014556"
      ]
     },
     "execution_count": 48,
     "metadata": {},
     "output_type": "execute_result"
    }
   ],
   "source": [
    "df1.head(10)"
   ]
  },
  {
   "cell_type": "code",
   "execution_count": 49,
   "id": "1600225b",
   "metadata": {},
   "outputs": [],
   "source": [
    "df1.coordenadas_x = df1.coordenadas_x.astype(int)\n",
    "df1.coordenadas_y = df1.coordenadas_y.astype(int)"
   ]
  },
  {
   "cell_type": "code",
   "execution_count": 50,
   "id": "0625d6bd",
   "metadata": {},
   "outputs": [
    {
     "data": {
      "text/plain": [
       "nome_da_propriedade    object\n",
       "sede                   object\n",
       "municipio              object\n",
       "coordenadas_x           int32\n",
       "coordenadas_y           int32\n",
       "dtype: object"
      ]
     },
     "execution_count": 50,
     "metadata": {},
     "output_type": "execute_result"
    }
   ],
   "source": [
    "df1.dtypes"
   ]
  },
  {
   "cell_type": "markdown",
   "id": "9934a6a8",
   "metadata": {},
   "source": [
    "### Criando relatório"
   ]
  },
  {
   "cell_type": "code",
   "execution_count": 51,
   "id": "49195dd9",
   "metadata": {},
   "outputs": [
    {
     "data": {
      "text/html": [
       "<div>\n",
       "<style scoped>\n",
       "    .dataframe tbody tr th:only-of-type {\n",
       "        vertical-align: middle;\n",
       "    }\n",
       "\n",
       "    .dataframe tbody tr th {\n",
       "        vertical-align: top;\n",
       "    }\n",
       "\n",
       "    .dataframe thead th {\n",
       "        text-align: right;\n",
       "    }\n",
       "</style>\n",
       "<table border=\"1\" class=\"dataframe\">\n",
       "  <thead>\n",
       "    <tr style=\"text-align: right;\">\n",
       "      <th></th>\n",
       "      <th>nome_da_propriedade</th>\n",
       "      <th>sede</th>\n",
       "      <th>municipio</th>\n",
       "      <th>coordenadas_x</th>\n",
       "      <th>coordenadas_y</th>\n",
       "    </tr>\n",
       "  </thead>\n",
       "  <tbody>\n",
       "    <tr>\n",
       "      <th>0</th>\n",
       "      <td>Fazenda Paz de Deus</td>\n",
       "      <td>Sede A</td>\n",
       "      <td>Paragominas</td>\n",
       "      <td>25945</td>\n",
       "      <td>25945</td>\n",
       "    </tr>\n",
       "    <tr>\n",
       "      <th>1</th>\n",
       "      <td>Chacara Rodrigues</td>\n",
       "      <td>Sede A</td>\n",
       "      <td>Breves</td>\n",
       "      <td>14057</td>\n",
       "      <td>14057</td>\n",
       "    </tr>\n",
       "    <tr>\n",
       "      <th>2</th>\n",
       "      <td>Rancho Montenegro</td>\n",
       "      <td>Sede A</td>\n",
       "      <td>Castanhal</td>\n",
       "      <td>11738</td>\n",
       "      <td>11738</td>\n",
       "    </tr>\n",
       "    <tr>\n",
       "      <th>3</th>\n",
       "      <td>Fazenda Fe em Deus</td>\n",
       "      <td>Sede A</td>\n",
       "      <td>Castanhal</td>\n",
       "      <td>11738</td>\n",
       "      <td>11738</td>\n",
       "    </tr>\n",
       "    <tr>\n",
       "      <th>4</th>\n",
       "      <td>Fazenda 3 Marias</td>\n",
       "      <td>Sede A</td>\n",
       "      <td>Castanhal</td>\n",
       "      <td>11738</td>\n",
       "      <td>11738</td>\n",
       "    </tr>\n",
       "  </tbody>\n",
       "</table>\n",
       "</div>"
      ],
      "text/plain": [
       "   nome_da_propriedade    sede    municipio  coordenadas_x  coordenadas_y\n",
       "0  Fazenda Paz de Deus  Sede A  Paragominas          25945          25945\n",
       "1    Chacara Rodrigues  Sede A       Breves          14057          14057\n",
       "2    Rancho Montenegro  Sede A    Castanhal          11738          11738\n",
       "3   Fazenda Fe em Deus  Sede A    Castanhal          11738          11738\n",
       "4     Fazenda 3 Marias  Sede A    Castanhal          11738          11738"
      ]
     },
     "execution_count": 51,
     "metadata": {},
     "output_type": "execute_result"
    }
   ],
   "source": [
    "df1.head()"
   ]
  },
  {
   "cell_type": "code",
   "execution_count": 52,
   "id": "044690f2",
   "metadata": {},
   "outputs": [],
   "source": [
    "# df2 = df.copy()"
   ]
  },
  {
   "cell_type": "code",
   "execution_count": 53,
   "id": "9402226c",
   "metadata": {},
   "outputs": [
    {
     "data": {
      "text/html": [
       "<div>\n",
       "<style scoped>\n",
       "    .dataframe tbody tr th:only-of-type {\n",
       "        vertical-align: middle;\n",
       "    }\n",
       "\n",
       "    .dataframe tbody tr th {\n",
       "        vertical-align: top;\n",
       "    }\n",
       "\n",
       "    .dataframe thead th {\n",
       "        text-align: right;\n",
       "    }\n",
       "</style>\n",
       "<table border=\"1\" class=\"dataframe\">\n",
       "  <thead>\n",
       "    <tr style=\"text-align: right;\">\n",
       "      <th></th>\n",
       "      <th>nome_da_propriedade</th>\n",
       "      <th>sede</th>\n",
       "      <th>municipio</th>\n",
       "      <th>coordenadas_x</th>\n",
       "      <th>coordenadas_y</th>\n",
       "      <th>classificacao</th>\n",
       "    </tr>\n",
       "  </thead>\n",
       "  <tbody>\n",
       "    <tr>\n",
       "      <th>0</th>\n",
       "      <td>Fazenda Paz de Deus</td>\n",
       "      <td>Sede A</td>\n",
       "      <td>Paragominas</td>\n",
       "      <td>25945</td>\n",
       "      <td>25945</td>\n",
       "      <td>51890</td>\n",
       "    </tr>\n",
       "    <tr>\n",
       "      <th>1</th>\n",
       "      <td>Chacara Rodrigues</td>\n",
       "      <td>Sede A</td>\n",
       "      <td>Breves</td>\n",
       "      <td>14057</td>\n",
       "      <td>14057</td>\n",
       "      <td>28114</td>\n",
       "    </tr>\n",
       "    <tr>\n",
       "      <th>2</th>\n",
       "      <td>Rancho Montenegro</td>\n",
       "      <td>Sede A</td>\n",
       "      <td>Castanhal</td>\n",
       "      <td>11738</td>\n",
       "      <td>11738</td>\n",
       "      <td>23476</td>\n",
       "    </tr>\n",
       "    <tr>\n",
       "      <th>3</th>\n",
       "      <td>Fazenda Fe em Deus</td>\n",
       "      <td>Sede A</td>\n",
       "      <td>Castanhal</td>\n",
       "      <td>11738</td>\n",
       "      <td>11738</td>\n",
       "      <td>23476</td>\n",
       "    </tr>\n",
       "    <tr>\n",
       "      <th>4</th>\n",
       "      <td>Fazenda 3 Marias</td>\n",
       "      <td>Sede A</td>\n",
       "      <td>Castanhal</td>\n",
       "      <td>11738</td>\n",
       "      <td>11738</td>\n",
       "      <td>23476</td>\n",
       "    </tr>\n",
       "  </tbody>\n",
       "</table>\n",
       "</div>"
      ],
      "text/plain": [
       "   nome_da_propriedade    sede    municipio  coordenadas_x  coordenadas_y  \\\n",
       "0  Fazenda Paz de Deus  Sede A  Paragominas          25945          25945   \n",
       "1    Chacara Rodrigues  Sede A       Breves          14057          14057   \n",
       "2    Rancho Montenegro  Sede A    Castanhal          11738          11738   \n",
       "3   Fazenda Fe em Deus  Sede A    Castanhal          11738          11738   \n",
       "4     Fazenda 3 Marias  Sede A    Castanhal          11738          11738   \n",
       "\n",
       "   classificacao  \n",
       "0          51890  \n",
       "1          28114  \n",
       "2          23476  \n",
       "3          23476  \n",
       "4          23476  "
      ]
     },
     "execution_count": 53,
     "metadata": {},
     "output_type": "execute_result"
    }
   ],
   "source": [
    "df1['classificacao'] = df1.coordenadas_x + df1.coordenadas_y\n",
    "\n",
    "df1.head()"
   ]
  },
  {
   "cell_type": "code",
   "execution_count": 54,
   "id": "4a0244bd",
   "metadata": {},
   "outputs": [],
   "source": [
    "df1.classificacao = df1.classificacao.apply(lambda x:'Zerada' if x > 0 else 'Incorreta')"
   ]
  },
  {
   "cell_type": "code",
   "execution_count": 55,
   "id": "1fb52b5d",
   "metadata": {},
   "outputs": [
    {
     "data": {
      "text/html": [
       "<div>\n",
       "<style scoped>\n",
       "    .dataframe tbody tr th:only-of-type {\n",
       "        vertical-align: middle;\n",
       "    }\n",
       "\n",
       "    .dataframe tbody tr th {\n",
       "        vertical-align: top;\n",
       "    }\n",
       "\n",
       "    .dataframe thead th {\n",
       "        text-align: right;\n",
       "    }\n",
       "</style>\n",
       "<table border=\"1\" class=\"dataframe\">\n",
       "  <thead>\n",
       "    <tr style=\"text-align: right;\">\n",
       "      <th></th>\n",
       "      <th>nome_da_propriedade</th>\n",
       "      <th>sede</th>\n",
       "      <th>municipio</th>\n",
       "      <th>coordenadas_x</th>\n",
       "      <th>coordenadas_y</th>\n",
       "      <th>classificacao</th>\n",
       "    </tr>\n",
       "  </thead>\n",
       "  <tbody>\n",
       "    <tr>\n",
       "      <th>0</th>\n",
       "      <td>Fazenda Paz de Deus</td>\n",
       "      <td>Sede A</td>\n",
       "      <td>Paragominas</td>\n",
       "      <td>25945</td>\n",
       "      <td>25945</td>\n",
       "      <td>Zerada</td>\n",
       "    </tr>\n",
       "    <tr>\n",
       "      <th>1</th>\n",
       "      <td>Chacara Rodrigues</td>\n",
       "      <td>Sede A</td>\n",
       "      <td>Breves</td>\n",
       "      <td>14057</td>\n",
       "      <td>14057</td>\n",
       "      <td>Zerada</td>\n",
       "    </tr>\n",
       "    <tr>\n",
       "      <th>2</th>\n",
       "      <td>Rancho Montenegro</td>\n",
       "      <td>Sede A</td>\n",
       "      <td>Castanhal</td>\n",
       "      <td>11738</td>\n",
       "      <td>11738</td>\n",
       "      <td>Zerada</td>\n",
       "    </tr>\n",
       "    <tr>\n",
       "      <th>3</th>\n",
       "      <td>Fazenda Fe em Deus</td>\n",
       "      <td>Sede A</td>\n",
       "      <td>Castanhal</td>\n",
       "      <td>11738</td>\n",
       "      <td>11738</td>\n",
       "      <td>Zerada</td>\n",
       "    </tr>\n",
       "    <tr>\n",
       "      <th>4</th>\n",
       "      <td>Fazenda 3 Marias</td>\n",
       "      <td>Sede A</td>\n",
       "      <td>Castanhal</td>\n",
       "      <td>11738</td>\n",
       "      <td>11738</td>\n",
       "      <td>Zerada</td>\n",
       "    </tr>\n",
       "    <tr>\n",
       "      <th>5</th>\n",
       "      <td>Fazenda Esperança</td>\n",
       "      <td>Sede A</td>\n",
       "      <td>Castanhal</td>\n",
       "      <td>0</td>\n",
       "      <td>0</td>\n",
       "      <td>Incorreta</td>\n",
       "    </tr>\n",
       "    <tr>\n",
       "      <th>6</th>\n",
       "      <td>Fazenda Nonato</td>\n",
       "      <td>Sede A</td>\n",
       "      <td>Castanhal</td>\n",
       "      <td>0</td>\n",
       "      <td>0</td>\n",
       "      <td>Incorreta</td>\n",
       "    </tr>\n",
       "    <tr>\n",
       "      <th>7</th>\n",
       "      <td>Fazenda Liberdade</td>\n",
       "      <td>Sede A</td>\n",
       "      <td>Breves</td>\n",
       "      <td>14057</td>\n",
       "      <td>14057</td>\n",
       "      <td>Zerada</td>\n",
       "    </tr>\n",
       "    <tr>\n",
       "      <th>8</th>\n",
       "      <td>Fazenda 2 Irmaos</td>\n",
       "      <td>Sede A</td>\n",
       "      <td>Oriximiná</td>\n",
       "      <td>14556</td>\n",
       "      <td>14556</td>\n",
       "      <td>Zerada</td>\n",
       "    </tr>\n",
       "    <tr>\n",
       "      <th>9</th>\n",
       "      <td>Chacara Monte Alto</td>\n",
       "      <td>Sede A</td>\n",
       "      <td>Oriximiná</td>\n",
       "      <td>14556</td>\n",
       "      <td>14556</td>\n",
       "      <td>Zerada</td>\n",
       "    </tr>\n",
       "  </tbody>\n",
       "</table>\n",
       "</div>"
      ],
      "text/plain": [
       "   nome_da_propriedade    sede    municipio  coordenadas_x  coordenadas_y  \\\n",
       "0  Fazenda Paz de Deus  Sede A  Paragominas          25945          25945   \n",
       "1    Chacara Rodrigues  Sede A       Breves          14057          14057   \n",
       "2    Rancho Montenegro  Sede A    Castanhal          11738          11738   \n",
       "3   Fazenda Fe em Deus  Sede A    Castanhal          11738          11738   \n",
       "4     Fazenda 3 Marias  Sede A    Castanhal          11738          11738   \n",
       "5    Fazenda Esperança  Sede A    Castanhal              0              0   \n",
       "6       Fazenda Nonato  Sede A    Castanhal              0              0   \n",
       "7    Fazenda Liberdade  Sede A       Breves          14057          14057   \n",
       "8     Fazenda 2 Irmaos  Sede A    Oriximiná          14556          14556   \n",
       "9   Chacara Monte Alto  Sede A    Oriximiná          14556          14556   \n",
       "\n",
       "  classificacao  \n",
       "0        Zerada  \n",
       "1        Zerada  \n",
       "2        Zerada  \n",
       "3        Zerada  \n",
       "4        Zerada  \n",
       "5     Incorreta  \n",
       "6     Incorreta  \n",
       "7        Zerada  \n",
       "8        Zerada  \n",
       "9        Zerada  "
      ]
     },
     "execution_count": 55,
     "metadata": {},
     "output_type": "execute_result"
    }
   ],
   "source": [
    "df1.head(10)"
   ]
  },
  {
   "cell_type": "code",
   "execution_count": 56,
   "id": "fd383a1a",
   "metadata": {},
   "outputs": [],
   "source": [
    "col = ['municipio', 'classificacao']\n",
    "\n",
    "relatorio = df1.loc[:,col].groupby(['municipio','classificacao',]).size().reset_index()"
   ]
  },
  {
   "cell_type": "markdown",
   "id": "f61a39ad",
   "metadata": {},
   "source": [
    "### Criar um arquivo csv para cada municipio com coordenadas incorretas"
   ]
  },
  {
   "cell_type": "code",
   "execution_count": 57,
   "id": "4edd8379",
   "metadata": {},
   "outputs": [
    {
     "data": {
      "text/html": [
       "<div>\n",
       "<style scoped>\n",
       "    .dataframe tbody tr th:only-of-type {\n",
       "        vertical-align: middle;\n",
       "    }\n",
       "\n",
       "    .dataframe tbody tr th {\n",
       "        vertical-align: top;\n",
       "    }\n",
       "\n",
       "    .dataframe thead th {\n",
       "        text-align: right;\n",
       "    }\n",
       "</style>\n",
       "<table border=\"1\" class=\"dataframe\">\n",
       "  <thead>\n",
       "    <tr style=\"text-align: right;\">\n",
       "      <th></th>\n",
       "      <th>nome_da_propriedade</th>\n",
       "      <th>sede</th>\n",
       "      <th>municipio</th>\n",
       "      <th>coordenadas_x</th>\n",
       "      <th>coordenadas_y</th>\n",
       "    </tr>\n",
       "  </thead>\n",
       "  <tbody>\n",
       "    <tr>\n",
       "      <th>0</th>\n",
       "      <td>Fazenda Paz de Deus</td>\n",
       "      <td>Sede A</td>\n",
       "      <td>Paragominas</td>\n",
       "      <td>02º 59' 45\" S</td>\n",
       "      <td>47º 21' 10\" W</td>\n",
       "    </tr>\n",
       "    <tr>\n",
       "      <th>10</th>\n",
       "      <td>Rancho Cezar</td>\n",
       "      <td>Sede A</td>\n",
       "      <td>Paragominas</td>\n",
       "      <td>02º 59' 45\" S</td>\n",
       "      <td>47º 21' 10\" W</td>\n",
       "    </tr>\n",
       "    <tr>\n",
       "      <th>11</th>\n",
       "      <td>Fazenda Confusão</td>\n",
       "      <td>Sede A</td>\n",
       "      <td>Paragominas</td>\n",
       "      <td>02º 59' 45\" S</td>\n",
       "      <td>47º 21' 10\" W</td>\n",
       "    </tr>\n",
       "    <tr>\n",
       "      <th>12</th>\n",
       "      <td>Fazenda GM</td>\n",
       "      <td>Sede A</td>\n",
       "      <td>Paragominas</td>\n",
       "      <td>NaN</td>\n",
       "      <td>NaN</td>\n",
       "    </tr>\n",
       "    <tr>\n",
       "      <th>13</th>\n",
       "      <td>Chacara Felicidade</td>\n",
       "      <td>Sede A</td>\n",
       "      <td>Paragominas</td>\n",
       "      <td>02º 59' 45\" S</td>\n",
       "      <td>47º 21' 10\" W</td>\n",
       "    </tr>\n",
       "    <tr>\n",
       "      <th>14</th>\n",
       "      <td>Fazenda Madrugada</td>\n",
       "      <td>Sede A</td>\n",
       "      <td>Paragominas</td>\n",
       "      <td>02º 59' 45\" S</td>\n",
       "      <td>47º 21' 10\" W</td>\n",
       "    </tr>\n",
       "    <tr>\n",
       "      <th>15</th>\n",
       "      <td>Fazenda Nova Morada</td>\n",
       "      <td>Sede A</td>\n",
       "      <td>Paragominas</td>\n",
       "      <td>02º 59' 45\" S</td>\n",
       "      <td>47º 21' 10\" W</td>\n",
       "    </tr>\n",
       "  </tbody>\n",
       "</table>\n",
       "</div>"
      ],
      "text/plain": [
       "    nome_da_propriedade    sede    municipio  coordenadas_x  coordenadas_y\n",
       "0   Fazenda Paz de Deus  Sede A  Paragominas  02º 59' 45\" S  47º 21' 10\" W\n",
       "10         Rancho Cezar  Sede A  Paragominas  02º 59' 45\" S  47º 21' 10\" W\n",
       "11     Fazenda Confusão  Sede A  Paragominas  02º 59' 45\" S  47º 21' 10\" W\n",
       "12           Fazenda GM  Sede A  Paragominas            NaN            NaN\n",
       "13   Chacara Felicidade  Sede A  Paragominas  02º 59' 45\" S  47º 21' 10\" W\n",
       "14    Fazenda Madrugada  Sede A  Paragominas  02º 59' 45\" S  47º 21' 10\" W\n",
       "15  Fazenda Nova Morada  Sede A  Paragominas  02º 59' 45\" S  47º 21' 10\" W"
      ]
     },
     "execution_count": 57,
     "metadata": {},
     "output_type": "execute_result"
    }
   ],
   "source": [
    "# df1.municipio.unique()\n",
    "\n",
    "municipios = ['Paragominas', 'Breves', 'Castanhal', 'Oriximiná', 'Soure']\n",
    "\n",
    "df.query('municipio == \"Paragominas\"')"
   ]
  },
  {
   "cell_type": "code",
   "execution_count": 58,
   "id": "898b7915",
   "metadata": {},
   "outputs": [],
   "source": [
    "import os\n",
    "\n",
    "# Encontrar os valores únicos na coluna 'categoria'\n",
    "unique_values = df['municipio'].unique()\n",
    "\n",
    "# Criar um diretório para armazenar os arquivos CSV separados\n",
    "output_directory = 'csv_separados'\n",
    "os.makedirs(output_directory, exist_ok=True)\n",
    "\n",
    "# Para cada valor único, criar um arquivo CSV separado\n",
    "for value in unique_values:\n",
    "    # Filtrar o DataFrame para conter apenas linhas com o valor atual\n",
    "    filtered_df = df[df['municipio'] == value]\n",
    "    \n",
    "    # Criar um nome de arquivo amigável removendo caracteres especiais\n",
    "    file_name = f\"{value}.csv\".replace(' ', '_').replace('/', '-')\n",
    "    \n",
    "    # Salvar o DataFrame filtrado como um arquivo CSV\n",
    "    output_path = os.path.join(output_directory, file_name)\n",
    "    filtered_df.to_csv(output_path, index=False)"
   ]
  },
  {
   "cell_type": "markdown",
   "id": "63b4dbc1",
   "metadata": {},
   "source": [
    "### Criar um arquivo Excel completo, cada aba com seu municipio"
   ]
  },
  {
   "cell_type": "code",
   "execution_count": 60,
   "id": "c1222b38",
   "metadata": {},
   "outputs": [],
   "source": [
    "# Criar um arquivo Excel\n",
    "wb = Workbook()\n",
    "\n",
    "# Remover a planilha de exemplo criada por padrão\n",
    "if 'Sheet' in wb.sheetnames:\n",
    "    wb.remove(wb['Sheet'])\n",
    "\n",
    "# Encontrar os valores únicos na coluna 'categoria'\n",
    "unique_values = df['municipio'].unique()\n",
    "\n",
    "# Iterar através dos valores únicos e criar abas correspondentes\n",
    "for value in unique_values:\n",
    "    # Criar uma nova planilha\n",
    "    ws = wb.create_sheet(title=value)\n",
    "    \n",
    "    # Duplicar as colunas do DataFrame para cada aba\n",
    "    columns = df.columns\n",
    "    for col_idx, column in enumerate(columns, start=1):\n",
    "        ws.cell(row=1, column=col_idx, value=column)  # Escrever os nomes das colunas\n",
    "        \n",
    "        # Escrever os dados correspondentes a essa coluna\n",
    "        for row_idx, cell_value in enumerate(df[df['municipio'] == value][column], start=2):\n",
    "            ws.cell(row=row_idx, column=col_idx, value=cell_value)\n",
    "\n",
    "# Salvar o arquivo Excel\n",
    "excel_file = \"coordenadas_incorretas.xlsx\"\n",
    "wb.save(excel_file)"
   ]
  },
  {
   "cell_type": "markdown",
   "id": "0a71cb94",
   "metadata": {},
   "source": [
    "### Relatório"
   ]
  },
  {
   "cell_type": "code",
   "execution_count": 63,
   "id": "e2e5cf0e",
   "metadata": {},
   "outputs": [
    {
     "data": {
      "text/html": [
       "<div>\n",
       "<style scoped>\n",
       "    .dataframe tbody tr th:only-of-type {\n",
       "        vertical-align: middle;\n",
       "    }\n",
       "\n",
       "    .dataframe tbody tr th {\n",
       "        vertical-align: top;\n",
       "    }\n",
       "\n",
       "    .dataframe thead th {\n",
       "        text-align: right;\n",
       "    }\n",
       "</style>\n",
       "<table border=\"1\" class=\"dataframe\">\n",
       "  <thead>\n",
       "    <tr style=\"text-align: right;\">\n",
       "      <th></th>\n",
       "      <th>Municipio</th>\n",
       "      <th>Classificação</th>\n",
       "      <th>Contagem</th>\n",
       "    </tr>\n",
       "  </thead>\n",
       "  <tbody>\n",
       "    <tr>\n",
       "      <th>0</th>\n",
       "      <td>Breves</td>\n",
       "      <td>Incorreta</td>\n",
       "      <td>1</td>\n",
       "    </tr>\n",
       "    <tr>\n",
       "      <th>1</th>\n",
       "      <td>Breves</td>\n",
       "      <td>Zerada</td>\n",
       "      <td>3</td>\n",
       "    </tr>\n",
       "    <tr>\n",
       "      <th>2</th>\n",
       "      <td>Castanhal</td>\n",
       "      <td>Incorreta</td>\n",
       "      <td>4</td>\n",
       "    </tr>\n",
       "    <tr>\n",
       "      <th>3</th>\n",
       "      <td>Castanhal</td>\n",
       "      <td>Zerada</td>\n",
       "      <td>3</td>\n",
       "    </tr>\n",
       "    <tr>\n",
       "      <th>4</th>\n",
       "      <td>Oriximiná</td>\n",
       "      <td>Incorreta</td>\n",
       "      <td>1</td>\n",
       "    </tr>\n",
       "    <tr>\n",
       "      <th>5</th>\n",
       "      <td>Oriximiná</td>\n",
       "      <td>Zerada</td>\n",
       "      <td>2</td>\n",
       "    </tr>\n",
       "    <tr>\n",
       "      <th>6</th>\n",
       "      <td>Paragominas</td>\n",
       "      <td>Incorreta</td>\n",
       "      <td>1</td>\n",
       "    </tr>\n",
       "    <tr>\n",
       "      <th>7</th>\n",
       "      <td>Paragominas</td>\n",
       "      <td>Zerada</td>\n",
       "      <td>6</td>\n",
       "    </tr>\n",
       "    <tr>\n",
       "      <th>8</th>\n",
       "      <td>Soure</td>\n",
       "      <td>Incorreta</td>\n",
       "      <td>1</td>\n",
       "    </tr>\n",
       "    <tr>\n",
       "      <th>9</th>\n",
       "      <td>Soure</td>\n",
       "      <td>Zerada</td>\n",
       "      <td>2</td>\n",
       "    </tr>\n",
       "  </tbody>\n",
       "</table>\n",
       "</div>"
      ],
      "text/plain": [
       "     Municipio Classificação  Contagem\n",
       "0       Breves     Incorreta         1\n",
       "1       Breves        Zerada         3\n",
       "2    Castanhal     Incorreta         4\n",
       "3    Castanhal        Zerada         3\n",
       "4    Oriximiná     Incorreta         1\n",
       "5    Oriximiná        Zerada         2\n",
       "6  Paragominas     Incorreta         1\n",
       "7  Paragominas        Zerada         6\n",
       "8        Soure     Incorreta         1\n",
       "9        Soure        Zerada         2"
      ]
     },
     "execution_count": 63,
     "metadata": {},
     "output_type": "execute_result"
    }
   ],
   "source": [
    "colunas = ['Municipio', 'Classificação', 'Contagem']\n",
    "relatorio.columns = colunas\n",
    "relatorio"
   ]
  },
  {
   "cell_type": "markdown",
   "id": "53442202",
   "metadata": {},
   "source": [
    "### Gráfico 1"
   ]
  },
  {
   "cell_type": "code",
   "execution_count": 64,
   "id": "78369d96",
   "metadata": {},
   "outputs": [
    {
     "data": {
      "image/png": "[encoded data removed]",
      "text/plain": [
       "<Figure size 1000x600 with 1 Axes>"
      ]
     },
     "metadata": {},
     "output_type": "display_data"
    }
   ],
   "source": [
    "import seaborn as sns\n",
    "\n",
    "\n",
    "# Supondo que você tenha um DataFrame chamado 'relatorio'\n",
    "# com as colunas 'Municipio', 'Classificação' e 'Contagem'\n",
    "\n",
    "plt.figure(figsize=(10, 6))\n",
    "sns.barplot(x='Municipio', y='Contagem', data=relatorio, hue='Classificação')\n",
    "\n",
    "# Adicionando os rotulos\n",
    "ax = plt.gca()\n",
    "for p in ax.patches:\n",
    "    height = p.get_height()\n",
    "    ax.annotate(f'{height}', (p.get_x() + p.get_width() / 2., height),\n",
    "                ha='center', va='bottom')\n",
    "\n",
    "plt.title('Gráfico de Barras com Valores')\n",
    "plt.show()\n"
   ]
  },
  {
   "cell_type": "markdown",
   "id": "6eaa7912",
   "metadata": {},
   "source": [
    "### Gráfico 2"
   ]
  },
  {
   "cell_type": "code",
   "execution_count": 65,
   "id": "516eb902",
   "metadata": {},
   "outputs": [
    {
     "data": {
      "application/vnd.plotly.v1+json": {
       "config": {
        "plotlyServerURL": "https://plot.ly"
       },
       "data": [
        {
         "alignmentgroup": "True",
         "hovertemplate": "Classificação=Incorreta<br>Municipio=%{x}<br>Contagem=%{text}<extra></extra>",
         "legendgroup": "Incorreta",
         "marker": {
          "color": "#636efa",
          "pattern": {
           "shape": ""
          }
         },
         "name": "Incorreta",
         "offsetgroup": "Incorreta",
         "orientation": "v",
         "showlegend": true,
         "text": [
          1,
          4,
          1,
          1,
          1
         ],
         "textposition": "outside",
         "texttemplate": "%{text:.2s}",
         "type": "bar",
         "x": [
          "Breves",
          "Castanhal",
          "Oriximiná",
          "Paragominas",
          "Soure"
         ],
         "xaxis": "x",
         "y": [
          1,
          4,
          1,
          1,
          1
         ],
         "yaxis": "y"
        },
        {
         "alignmentgroup": "True",
         "hovertemplate": "Classificação=Zerada<br>Municipio=%{x}<br>Contagem=%{text}<extra></extra>",
         "legendgroup": "Zerada",
         "marker": {
          "color": "#EF553B",
          "pattern": {
           "shape": ""
          }
         },
         "name": "Zerada",
         "offsetgroup": "Zerada",
         "orientation": "v",
         "showlegend": true,
         "text": [
          3,
          3,
          2,
          6,
          2
         ],
         "textposition": "outside",
         "texttemplate": "%{text:.2s}",
         "type": "bar",
         "x": [
          "Breves",
          "Castanhal",
          "Oriximiná",
          "Paragominas",
          "Soure"
         ],
         "xaxis": "x",
         "y": [
          3,
          3,
          2,
          6,
          2
         ],
         "yaxis": "y"
        }
       ],
       "layout": {
        "barmode": "group",
        "legend": {
         "title": {
          "text": "Classificação"
         },
         "tracegroupgap": 0
        },
        "margin": {
         "t": 60
        },
        "template": {
         "data": {
          "bar": [
           {
            "error_x": {
             "color": "#2a3f5f"
            },
            "error_y": {
             "color": "#2a3f5f"
            },
            "marker": {
             "line": {
              "color": "#E5ECF6",
              "width": 0.5
             },
             "pattern": {
              "fillmode": "overlay",
              "size": 10,
              "solidity": 0.2
             }
            },
            "type": "bar"
           }
          ],
          "barpolar": [
           {
            "marker": {
             "line": {
              "color": "#E5ECF6",
              "width": 0.5
             },
             "pattern": {
              "fillmode": "overlay",
              "size": 10,
              "solidity": 0.2
             }
            },
            "type": "barpolar"
           }
          ],
          "carpet": [
           {
            "aaxis": {
             "endlinecolor": "#2a3f5f",
             "gridcolor": "white",
             "linecolor": "white",
             "minorgridcolor": "white",
             "startlinecolor": "#2a3f5f"
            },
            "baxis": {
             "endlinecolor": "#2a3f5f",
             "gridcolor": "white",
             "linecolor": "white",
             "minorgridcolor": "white",
             "startlinecolor": "#2a3f5f"
            },
            "type": "carpet"
           }
          ],
          "choropleth": [
           {
            "colorbar": {
             "outlinewidth": 0,
             "ticks": ""
            },
            "type": "choropleth"
           }
          ],
          "contour": [
           {
            "colorbar": {
             "outlinewidth": 0,
             "ticks": ""
            },
            "colorscale": [
             [
              0,
              "#0d0887"
             ],
             [
              0.1111111111111111,
              "#46039f"
             ],
             [
              0.2222222222222222,
              "#7201a8"
             ],
             [
              0.3333333333333333,
              "#9c179e"
             ],
             [
              0.4444444444444444,
              "#bd3786"
             ],
             [
              0.5555555555555556,
              "#d8576b"
             ],
             [
              0.6666666666666666,
              "#ed7953"
             ],
             [
              0.7777777777777778,
              "#fb9f3a"
             ],
             [
              0.8888888888888888,
              "#fdca26"
             ],
             [
              1,
              "#f0f921"
             ]
            ],
            "type": "contour"
           }
          ],
          "contourcarpet": [
           {
            "colorbar": {
             "outlinewidth": 0,
             "ticks": ""
            },
            "type": "contourcarpet"
           }
          ],
          "heatmap": [
           {
            "colorbar": {
             "outlinewidth": 0,
             "ticks": ""
            },
            "colorscale": [
             [
              0,
              "#0d0887"
             ],
             [
              0.1111111111111111,
              "#46039f"
             ],
             [
              0.2222222222222222,
              "#7201a8"
             ],
             [
              0.3333333333333333,
              "#9c179e"
             ],
             [
              0.4444444444444444,
              "#bd3786"
             ],
             [
              0.5555555555555556,
              "#d8576b"
             ],
             [
              0.6666666666666666,
              "#ed7953"
             ],
             [
              0.7777777777777778,
              "#fb9f3a"
             ],
             [
              0.8888888888888888,
              "#fdca26"
             ],
             [
              1,
              "#f0f921"
             ]
            ],
            "type": "heatmap"
           }
          ],
          "heatmapgl": [
           {
            "colorbar": {
             "outlinewidth": 0,
             "ticks": ""
            },
            "colorscale": [
             [
              0,
              "#0d0887"
             ],
             [
              0.1111111111111111,
              "#46039f"
             ],
             [
              0.2222222222222222,
              "#7201a8"
             ],
             [
              0.3333333333333333,
              "#9c179e"
             ],
             [
              0.4444444444444444,
              "#bd3786"
             ],
             [
              0.5555555555555556,
              "#d8576b"
             ],
             [
              0.6666666666666666,
              "#ed7953"
             ],
             [
              0.7777777777777778,
              "#fb9f3a"
             ],
             [
              0.8888888888888888,
              "#fdca26"
             ],
             [
              1,
              "#f0f921"
             ]
            ],
            "type": "heatmapgl"
           }
          ],
          "histogram": [
           {
            "marker": {
             "pattern": {
              "fillmode": "overlay",
              "size": 10,
              "solidity": 0.2
             }
            },
            "type": "histogram"
           }
          ],
          "histogram2d": [
           {
            "colorbar": {
             "outlinewidth": 0,
             "ticks": ""
            },
            "colorscale": [
             [
              0,
              "#0d0887"
             ],
             [
              0.1111111111111111,
              "#46039f"
             ],
             [
              0.2222222222222222,
              "#7201a8"
             ],
             [
              0.3333333333333333,
              "#9c179e"
             ],
             [
              0.4444444444444444,
              "#bd3786"
             ],
             [
              0.5555555555555556,
              "#d8576b"
             ],
             [
              0.6666666666666666,
              "#ed7953"
             ],
             [
              0.7777777777777778,
              "#fb9f3a"
             ],
             [
              0.8888888888888888,
              "#fdca26"
             ],
             [
              1,
              "#f0f921"
             ]
            ],
            "type": "histogram2d"
           }
          ],
          "histogram2dcontour": [
           {
            "colorbar": {
             "outlinewidth": 0,
             "ticks": ""
            },
            "colorscale": [
             [
              0,
              "#0d0887"
             ],
             [
              0.1111111111111111,
              "#46039f"
             ],
             [
              0.2222222222222222,
              "#7201a8"
             ],
             [
              0.3333333333333333,
              "#9c179e"
             ],
             [
              0.4444444444444444,
              "#bd3786"
             ],
             [
              0.5555555555555556,
              "#d8576b"
             ],
             [
              0.6666666666666666,
              "#ed7953"
             ],
             [
              0.7777777777777778,
              "#fb9f3a"
             ],
             [
              0.8888888888888888,
              "#fdca26"
             ],
             [
              1,
              "#f0f921"
             ]
            ],
            "type": "histogram2dcontour"
           }
          ],
          "mesh3d": [
           {
            "colorbar": {
             "outlinewidth": 0,
             "ticks": ""
            },
            "type": "mesh3d"
           }
          ],
          "parcoords": [
           {
            "line": {
             "colorbar": {
              "outlinewidth": 0,
              "ticks": ""
             }
            },
            "type": "parcoords"
           }
          ],
          "pie": [
           {
            "automargin": true,
            "type": "pie"
           }
          ],
          "scatter": [
           {
            "fillpattern": {
             "fillmode": "overlay",
             "size": 10,
             "solidity": 0.2
            },
            "type": "scatter"
           }
          ],
          "scatter3d": [
           {
            "line": {
             "colorbar": {
              "outlinewidth": 0,
              "ticks": ""
             }
            },
            "marker": {
             "colorbar": {
              "outlinewidth": 0,
              "ticks": ""
             }
            },
            "type": "scatter3d"
           }
          ],
          "scattercarpet": [
           {
            "marker": {
             "colorbar": {
              "outlinewidth": 0,
              "ticks": ""
             }
            },
            "type": "scattercarpet"
           }
          ],
          "scattergeo": [
           {
            "marker": {
             "colorbar": {
              "outlinewidth": 0,
              "ticks": ""
             }
            },
            "type": "scattergeo"
           }
          ],
          "scattergl": [
           {
            "marker": {
             "colorbar": {
              "outlinewidth": 0,
              "ticks": ""
             }
            },
            "type": "scattergl"
           }
          ],
          "scattermapbox": [
           {
            "marker": {
             "colorbar": {
              "outlinewidth": 0,
              "ticks": ""
             }
            },
            "type": "scattermapbox"
           }
          ],
          "scatterpolar": [
           {
            "marker": {
             "colorbar": {
              "outlinewidth": 0,
              "ticks": ""
             }
            },
            "type": "scatterpolar"
           }
          ],
          "scatterpolargl": [
           {
            "marker": {
             "colorbar": {
              "outlinewidth": 0,
              "ticks": ""
             }
            },
            "type": "scatterpolargl"
           }
          ],
          "scatterternary": [
           {
            "marker": {
             "colorbar": {
              "outlinewidth": 0,
              "ticks": ""
             }
            },
            "type": "scatterternary"
           }
          ],
          "surface": [
           {
            "colorbar": {
             "outlinewidth": 0,
             "ticks": ""
            },
            "colorscale": [
             [
              0,
              "#0d0887"
             ],
             [
              0.1111111111111111,
              "#46039f"
             ],
             [
              0.2222222222222222,
              "#7201a8"
             ],
             [
              0.3333333333333333,
              "#9c179e"
             ],
             [
              0.4444444444444444,
              "#bd3786"
             ],
             [
              0.5555555555555556,
              "#d8576b"
             ],
             [
              0.6666666666666666,
              "#ed7953"
             ],
             [
              0.7777777777777778,
              "#fb9f3a"
             ],
             [
              0.8888888888888888,
              "#fdca26"
             ],
             [
              1,
              "#f0f921"
             ]
            ],
            "type": "surface"
           }
          ],
          "table": [
           {
            "cells": {
             "fill": {
              "color": "#EBF0F8"
             },
             "line": {
              "color": "white"
             }
            },
            "header": {
             "fill": {
              "color": "#C8D4E3"
             },
             "line": {
              "color": "white"
             }
            },
            "type": "table"
           }
          ]
         },
         "layout": {
          "annotationdefaults": {
           "arrowcolor": "#2a3f5f",
           "arrowhead": 0,
           "arrowwidth": 1
          },
          "autotypenumbers": "strict",
          "coloraxis": {
           "colorbar": {
            "outlinewidth": 0,
            "ticks": ""
           }
          },
          "colorscale": {
           "diverging": [
            [
             0,
             "#8e0152"
            ],
            [
             0.1,
             "#c51b7d"
            ],
            [
             0.2,
             "#de77ae"
            ],
            [
             0.3,
             "#f1b6da"
            ],
            [
             0.4,
             "#fde0ef"
            ],
            [
             0.5,
             "#f7f7f7"
            ],
            [
             0.6,
             "#e6f5d0"
            ],
            [
             0.7,
             "#b8e186"
            ],
            [
             0.8,
             "#7fbc41"
            ],
            [
             0.9,
             "#4d9221"
            ],
            [
             1,
             "#276419"
            ]
           ],
           "sequential": [
            [
             0,
             "#0d0887"
            ],
            [
             0.1111111111111111,
             "#46039f"
            ],
            [
             0.2222222222222222,
             "#7201a8"
            ],
            [
             0.3333333333333333,
             "#9c179e"
            ],
            [
             0.4444444444444444,
             "#bd3786"
            ],
            [
             0.5555555555555556,
             "#d8576b"
            ],
            [
             0.6666666666666666,
             "#ed7953"
            ],
            [
             0.7777777777777778,
             "#fb9f3a"
            ],
            [
             0.8888888888888888,
             "#fdca26"
            ],
            [
             1,
             "#f0f921"
            ]
           ],
           "sequentialminus": [
            [
             0,
             "#0d0887"
            ],
            [
             0.1111111111111111,
             "#46039f"
            ],
            [
             0.2222222222222222,
             "#7201a8"
            ],
            [
             0.3333333333333333,
             "#9c179e"
            ],
            [
             0.4444444444444444,
             "#bd3786"
            ],
            [
             0.5555555555555556,
             "#d8576b"
            ],
            [
             0.6666666666666666,
             "#ed7953"
            ],
            [
             0.7777777777777778,
             "#fb9f3a"
            ],
            [
             0.8888888888888888,
             "#fdca26"
            ],
            [
             1,
             "#f0f921"
            ]
           ]
          },
          "colorway": [
           "#636efa",
           "#EF553B",
           "#00cc96",
           "#ab63fa",
           "#FFA15A",
           "#19d3f3",
           "#FF6692",
           "#B6E880",
           "#FF97FF",
           "#FECB52"
          ],
          "font": {
           "color": "#2a3f5f"
          },
          "geo": {
           "bgcolor": "white",
           "lakecolor": "white",
           "landcolor": "#E5ECF6",
           "showlakes": true,
           "showland": true,
           "subunitcolor": "white"
          },
          "hoverlabel": {
           "align": "left"
          },
          "hovermode": "closest",
          "mapbox": {
           "style": "light"
          },
          "paper_bgcolor": "white",
          "plot_bgcolor": "#E5ECF6",
          "polar": {
           "angularaxis": {
            "gridcolor": "white",
            "linecolor": "white",
            "ticks": ""
           },
           "bgcolor": "#E5ECF6",
           "radialaxis": {
            "gridcolor": "white",
            "linecolor": "white",
            "ticks": ""
           }
          },
          "scene": {
           "xaxis": {
            "backgroundcolor": "#E5ECF6",
            "gridcolor": "white",
            "gridwidth": 2,
            "linecolor": "white",
            "showbackground": true,
            "ticks": "",
            "zerolinecolor": "white"
           },
           "yaxis": {
            "backgroundcolor": "#E5ECF6",
            "gridcolor": "white",
            "gridwidth": 2,
            "linecolor": "white",
            "showbackground": true,
            "ticks": "",
            "zerolinecolor": "white"
           },
           "zaxis": {
            "backgroundcolor": "#E5ECF6",
            "gridcolor": "white",
            "gridwidth": 2,
            "linecolor": "white",
            "showbackground": true,
            "ticks": "",
            "zerolinecolor": "white"
           }
          },
          "shapedefaults": {
           "line": {
            "color": "#2a3f5f"
           }
          },
          "ternary": {
           "aaxis": {
            "gridcolor": "white",
            "linecolor": "white",
            "ticks": ""
           },
           "baxis": {
            "gridcolor": "white",
            "linecolor": "white",
            "ticks": ""
           },
           "bgcolor": "#E5ECF6",
           "caxis": {
            "gridcolor": "white",
            "linecolor": "white",
            "ticks": ""
           }
          },
          "title": {
           "x": 0.05
          },
          "xaxis": {
           "automargin": true,
           "gridcolor": "white",
           "linecolor": "white",
           "ticks": "",
           "title": {
            "standoff": 15
           },
           "zerolinecolor": "white",
           "zerolinewidth": 2
          },
          "yaxis": {
           "automargin": true,
           "gridcolor": "white",
           "linecolor": "white",
           "ticks": "",
           "title": {
            "standoff": 15
           },
           "zerolinecolor": "white",
           "zerolinewidth": 2
          }
         }
        },
        "xaxis": {
         "anchor": "y",
         "domain": [
          0,
          1
         ],
         "title": {
          "text": "Municipio"
         }
        },
        "yaxis": {
         "anchor": "x",
         "domain": [
          0,
          1
         ],
         "title": {
          "text": "Contagem"
         }
        }
       }
      },
      "text/html": [
       "<div>                            <div id=\"64ab2601-4609-431a-a340-2ae830cdc587\" class=\"plotly-graph-div\" style=\"height:525px; width:100%;\"></div>            <script type=\"text/javascript\">                require([\"plotly\"], function(Plotly) {                    window.PLOTLYENV=window.PLOTLYENV || {};                                    if (document.getElementById(\"64ab2601-4609-431a-a340-2ae830cdc587\")) {                    Plotly.newPlot(                        \"64ab2601-4609-431a-a340-2ae830cdc587\",                        [{\"alignmentgroup\":\"True\",\"hovertemplate\":\"Classifica\\u00e7\\u00e3o=Incorreta\\u003cbr\\u003eMunicipio=%{x}\\u003cbr\\u003eContagem=%{text}\\u003cextra\\u003e\\u003c\\u002fextra\\u003e\",\"legendgroup\":\"Incorreta\",\"marker\":{\"color\":\"#636efa\",\"pattern\":{\"shape\":\"\"}},\"name\":\"Incorreta\",\"offsetgroup\":\"Incorreta\",\"orientation\":\"v\",\"showlegend\":true,\"text\":[1.0,4.0,1.0,1.0,1.0],\"textposition\":\"outside\",\"x\":[\"Breves\",\"Castanhal\",\"Oriximin\\u00e1\",\"Paragominas\",\"Soure\"],\"xaxis\":\"x\",\"y\":[1,4,1,1,1],\"yaxis\":\"y\",\"type\":\"bar\",\"texttemplate\":\"%{text:.2s}\"},{\"alignmentgroup\":\"True\",\"hovertemplate\":\"Classifica\\u00e7\\u00e3o=Zerada\\u003cbr\\u003eMunicipio=%{x}\\u003cbr\\u003eContagem=%{text}\\u003cextra\\u003e\\u003c\\u002fextra\\u003e\",\"legendgroup\":\"Zerada\",\"marker\":{\"color\":\"#EF553B\",\"pattern\":{\"shape\":\"\"}},\"name\":\"Zerada\",\"offsetgroup\":\"Zerada\",\"orientation\":\"v\",\"showlegend\":true,\"text\":[3.0,3.0,2.0,6.0,2.0],\"textposition\":\"outside\",\"x\":[\"Breves\",\"Castanhal\",\"Oriximin\\u00e1\",\"Paragominas\",\"Soure\"],\"xaxis\":\"x\",\"y\":[3,3,2,6,2],\"yaxis\":\"y\",\"type\":\"bar\",\"texttemplate\":\"%{text:.2s}\"}],                        {\"template\":{\"data\":{\"histogram2dcontour\":[{\"type\":\"histogram2dcontour\",\"colorbar\":{\"outlinewidth\":0,\"ticks\":\"\"},\"colorscale\":[[0.0,\"#0d0887\"],[0.1111111111111111,\"#46039f\"],[0.2222222222222222,\"#7201a8\"],[0.3333333333333333,\"#9c179e\"],[0.4444444444444444,\"#bd3786\"],[0.5555555555555556,\"#d8576b\"],[0.6666666666666666,\"#ed7953\"],[0.7777777777777778,\"#fb9f3a\"],[0.8888888888888888,\"#fdca26\"],[1.0,\"#f0f921\"]]}],\"choropleth\":[{\"type\":\"choropleth\",\"colorbar\":{\"outlinewidth\":0,\"ticks\":\"\"}}],\"histogram2d\":[{\"type\":\"histogram2d\",\"colorbar\":{\"outlinewidth\":0,\"ticks\":\"\"},\"colorscale\":[[0.0,\"#0d0887\"],[0.1111111111111111,\"#46039f\"],[0.2222222222222222,\"#7201a8\"],[0.3333333333333333,\"#9c179e\"],[0.4444444444444444,\"#bd3786\"],[0.5555555555555556,\"#d8576b\"],[0.6666666666666666,\"#ed7953\"],[0.7777777777777778,\"#fb9f3a\"],[0.8888888888888888,\"#fdca26\"],[1.0,\"#f0f921\"]]}],\"heatmap\":[{\"type\":\"heatmap\",\"colorbar\":{\"outlinewidth\":0,\"ticks\":\"\"},\"colorscale\":[[0.0,\"#0d0887\"],[0.1111111111111111,\"#46039f\"],[0.2222222222222222,\"#7201a8\"],[0.3333333333333333,\"#9c179e\"],[0.4444444444444444,\"#bd3786\"],[0.5555555555555556,\"#d8576b\"],[0.6666666666666666,\"#ed7953\"],[0.7777777777777778,\"#fb9f3a\"],[0.8888888888888888,\"#fdca26\"],[1.0,\"#f0f921\"]]}],\"heatmapgl\":[{\"type\":\"heatmapgl\",\"colorbar\":{\"outlinewidth\":0,\"ticks\":\"\"},\"colorscale\":[[0.0,\"#0d0887\"],[0.1111111111111111,\"#46039f\"],[0.2222222222222222,\"#7201a8\"],[0.3333333333333333,\"#9c179e\"],[0.4444444444444444,\"#bd3786\"],[0.5555555555555556,\"#d8576b\"],[0.6666666666666666,\"#ed7953\"],[0.7777777777777778,\"#fb9f3a\"],[0.8888888888888888,\"#fdca26\"],[1.0,\"#f0f921\"]]}],\"contourcarpet\":[{\"type\":\"contourcarpet\",\"colorbar\":{\"outlinewidth\":0,\"ticks\":\"\"}}],\"contour\":[{\"type\":\"contour\",\"colorbar\":{\"outlinewidth\":0,\"ticks\":\"\"},\"colorscale\":[[0.0,\"#0d0887\"],[0.1111111111111111,\"#46039f\"],[0.2222222222222222,\"#7201a8\"],[0.3333333333333333,\"#9c179e\"],[0.4444444444444444,\"#bd3786\"],[0.5555555555555556,\"#d8576b\"],[0.6666666666666666,\"#ed7953\"],[0.7777777777777778,\"#fb9f3a\"],[0.8888888888888888,\"#fdca26\"],[1.0,\"#f0f921\"]]}],\"surface\":[{\"type\":\"surface\",\"colorbar\":{\"outlinewidth\":0,\"ticks\":\"\"},\"colorscale\":[[0.0,\"#0d0887\"],[0.1111111111111111,\"#46039f\"],[0.2222222222222222,\"#7201a8\"],[0.3333333333333333,\"#9c179e\"],[0.4444444444444444,\"#bd3786\"],[0.5555555555555556,\"#d8576b\"],[0.6666666666666666,\"#ed7953\"],[0.7777777777777778,\"#fb9f3a\"],[0.8888888888888888,\"#fdca26\"],[1.0,\"#f0f921\"]]}],\"mesh3d\":[{\"type\":\"mesh3d\",\"colorbar\":{\"outlinewidth\":0,\"ticks\":\"\"}}],\"scatter\":[{\"fillpattern\":{\"fillmode\":\"overlay\",\"size\":10,\"solidity\":0.2},\"type\":\"scatter\"}],\"parcoords\":[{\"type\":\"parcoords\",\"line\":{\"colorbar\":{\"outlinewidth\":0,\"ticks\":\"\"}}}],\"scatterpolargl\":[{\"type\":\"scatterpolargl\",\"marker\":{\"colorbar\":{\"outlinewidth\":0,\"ticks\":\"\"}}}],\"bar\":[{\"error_x\":{\"color\":\"#2a3f5f\"},\"error_y\":{\"color\":\"#2a3f5f\"},\"marker\":{\"line\":{\"color\":\"#E5ECF6\",\"width\":0.5},\"pattern\":{\"fillmode\":\"overlay\",\"size\":10,\"solidity\":0.2}},\"type\":\"bar\"}],\"scattergeo\":[{\"type\":\"scattergeo\",\"marker\":{\"colorbar\":{\"outlinewidth\":0,\"ticks\":\"\"}}}],\"scatterpolar\":[{\"type\":\"scatterpolar\",\"marker\":{\"colorbar\":{\"outlinewidth\":0,\"ticks\":\"\"}}}],\"histogram\":[{\"marker\":{\"pattern\":{\"fillmode\":\"overlay\",\"size\":10,\"solidity\":0.2}},\"type\":\"histogram\"}],\"scattergl\":[{\"type\":\"scattergl\",\"marker\":{\"colorbar\":{\"outlinewidth\":0,\"ticks\":\"\"}}}],\"scatter3d\":[{\"type\":\"scatter3d\",\"line\":{\"colorbar\":{\"outlinewidth\":0,\"ticks\":\"\"}},\"marker\":{\"colorbar\":{\"outlinewidth\":0,\"ticks\":\"\"}}}],\"scattermapbox\":[{\"type\":\"scattermapbox\",\"marker\":{\"colorbar\":{\"outlinewidth\":0,\"ticks\":\"\"}}}],\"scatterternary\":[{\"type\":\"scatterternary\",\"marker\":{\"colorbar\":{\"outlinewidth\":0,\"ticks\":\"\"}}}],\"scattercarpet\":[{\"type\":\"scattercarpet\",\"marker\":{\"colorbar\":{\"outlinewidth\":0,\"ticks\":\"\"}}}],\"carpet\":[{\"aaxis\":{\"endlinecolor\":\"#2a3f5f\",\"gridcolor\":\"white\",\"linecolor\":\"white\",\"minorgridcolor\":\"white\",\"startlinecolor\":\"#2a3f5f\"},\"baxis\":{\"endlinecolor\":\"#2a3f5f\",\"gridcolor\":\"white\",\"linecolor\":\"white\",\"minorgridcolor\":\"white\",\"startlinecolor\":\"#2a3f5f\"},\"type\":\"carpet\"}],\"table\":[{\"cells\":{\"fill\":{\"color\":\"#EBF0F8\"},\"line\":{\"color\":\"white\"}},\"header\":{\"fill\":{\"color\":\"#C8D4E3\"},\"line\":{\"color\":\"white\"}},\"type\":\"table\"}],\"barpolar\":[{\"marker\":{\"line\":{\"color\":\"#E5ECF6\",\"width\":0.5},\"pattern\":{\"fillmode\":\"overlay\",\"size\":10,\"solidity\":0.2}},\"type\":\"barpolar\"}],\"pie\":[{\"automargin\":true,\"type\":\"pie\"}]},\"layout\":{\"autotypenumbers\":\"strict\",\"colorway\":[\"#636efa\",\"#EF553B\",\"#00cc96\",\"#ab63fa\",\"#FFA15A\",\"#19d3f3\",\"#FF6692\",\"#B6E880\",\"#FF97FF\",\"#FECB52\"],\"font\":{\"color\":\"#2a3f5f\"},\"hovermode\":\"closest\",\"hoverlabel\":{\"align\":\"left\"},\"paper_bgcolor\":\"white\",\"plot_bgcolor\":\"#E5ECF6\",\"polar\":{\"bgcolor\":\"#E5ECF6\",\"angularaxis\":{\"gridcolor\":\"white\",\"linecolor\":\"white\",\"ticks\":\"\"},\"radialaxis\":{\"gridcolor\":\"white\",\"linecolor\":\"white\",\"ticks\":\"\"}},\"ternary\":{\"bgcolor\":\"#E5ECF6\",\"aaxis\":{\"gridcolor\":\"white\",\"linecolor\":\"white\",\"ticks\":\"\"},\"baxis\":{\"gridcolor\":\"white\",\"linecolor\":\"white\",\"ticks\":\"\"},\"caxis\":{\"gridcolor\":\"white\",\"linecolor\":\"white\",\"ticks\":\"\"}},\"coloraxis\":{\"colorbar\":{\"outlinewidth\":0,\"ticks\":\"\"}},\"colorscale\":{\"sequential\":[[0.0,\"#0d0887\"],[0.1111111111111111,\"#46039f\"],[0.2222222222222222,\"#7201a8\"],[0.3333333333333333,\"#9c179e\"],[0.4444444444444444,\"#bd3786\"],[0.5555555555555556,\"#d8576b\"],[0.6666666666666666,\"#ed7953\"],[0.7777777777777778,\"#fb9f3a\"],[0.8888888888888888,\"#fdca26\"],[1.0,\"#f0f921\"]],\"sequentialminus\":[[0.0,\"#0d0887\"],[0.1111111111111111,\"#46039f\"],[0.2222222222222222,\"#7201a8\"],[0.3333333333333333,\"#9c179e\"],[0.4444444444444444,\"#bd3786\"],[0.5555555555555556,\"#d8576b\"],[0.6666666666666666,\"#ed7953\"],[0.7777777777777778,\"#fb9f3a\"],[0.8888888888888888,\"#fdca26\"],[1.0,\"#f0f921\"]],\"diverging\":[[0,\"#8e0152\"],[0.1,\"#c51b7d\"],[0.2,\"#de77ae\"],[0.3,\"#f1b6da\"],[0.4,\"#fde0ef\"],[0.5,\"#f7f7f7\"],[0.6,\"#e6f5d0\"],[0.7,\"#b8e186\"],[0.8,\"#7fbc41\"],[0.9,\"#4d9221\"],[1,\"#276419\"]]},\"xaxis\":{\"gridcolor\":\"white\",\"linecolor\":\"white\",\"ticks\":\"\",\"title\":{\"standoff\":15},\"zerolinecolor\":\"white\",\"automargin\":true,\"zerolinewidth\":2},\"yaxis\":{\"gridcolor\":\"white\",\"linecolor\":\"white\",\"ticks\":\"\",\"title\":{\"standoff\":15},\"zerolinecolor\":\"white\",\"automargin\":true,\"zerolinewidth\":2},\"scene\":{\"xaxis\":{\"backgroundcolor\":\"#E5ECF6\",\"gridcolor\":\"white\",\"linecolor\":\"white\",\"showbackground\":true,\"ticks\":\"\",\"zerolinecolor\":\"white\",\"gridwidth\":2},\"yaxis\":{\"backgroundcolor\":\"#E5ECF6\",\"gridcolor\":\"white\",\"linecolor\":\"white\",\"showbackground\":true,\"ticks\":\"\",\"zerolinecolor\":\"white\",\"gridwidth\":2},\"zaxis\":{\"backgroundcolor\":\"#E5ECF6\",\"gridcolor\":\"white\",\"linecolor\":\"white\",\"showbackground\":true,\"ticks\":\"\",\"zerolinecolor\":\"white\",\"gridwidth\":2}},\"shapedefaults\":{\"line\":{\"color\":\"#2a3f5f\"}},\"annotationdefaults\":{\"arrowcolor\":\"#2a3f5f\",\"arrowhead\":0,\"arrowwidth\":1},\"geo\":{\"bgcolor\":\"white\",\"landcolor\":\"#E5ECF6\",\"subunitcolor\":\"white\",\"showland\":true,\"showlakes\":true,\"lakecolor\":\"white\"},\"title\":{\"x\":0.05},\"mapbox\":{\"style\":\"light\"}}},\"xaxis\":{\"anchor\":\"y\",\"domain\":[0.0,1.0],\"title\":{\"text\":\"Municipio\"}},\"yaxis\":{\"anchor\":\"x\",\"domain\":[0.0,1.0],\"title\":{\"text\":\"Contagem\"}},\"legend\":{\"title\":{\"text\":\"Classifica\\u00e7\\u00e3o\"},\"tracegroupgap\":0},\"margin\":{\"t\":60},\"barmode\":\"group\"},                        {\"responsive\": true}                    ).then(function(){\n",
       "                            \n",
       "var gd = document.getElementById('64ab2601-4609-431a-a340-2ae830cdc587');\n",
       "var x = new MutationObserver(function (mutations, observer) {{\n",
       "        var display = window.getComputedStyle(gd).display;\n",
       "        if (!display || display === 'none') {{\n",
       "            console.log([gd, 'removed!']);\n",
       "            Plotly.purge(gd);\n",
       "            observer.disconnect();\n",
       "        }}\n",
       "}});\n",
       "\n",
       "// Listen for the removal of the full notebook cells\n",
       "var notebookContainer = gd.closest('#notebook-container');\n",
       "if (notebookContainer) {{\n",
       "    x.observe(notebookContainer, {childList: true});\n",
       "}}\n",
       "\n",
       "// Listen for the clearing of the current output cell\n",
       "var outputEl = gd.closest('.output');\n",
       "if (outputEl) {{\n",
       "    x.observe(outputEl, {childList: true});\n",
       "}}\n",
       "\n",
       "                        })                };                });            </script>        </div>"
      ]
     },
     "metadata": {},
     "output_type": "display_data"
    }
   ],
   "source": [
    "fig = px.bar(relatorio, x='Municipio', y='Contagem', color='Classificação', barmode='group',\n",
    "             text='Contagem')  # Usar a coluna 'Contagem' para os rótulos dos dados\n",
    "\n",
    "# Ativar a exibição dos valores nas barras\n",
    "fig.update_traces(texttemplate='%{text:.2s}', textposition='outside')  # Posição e formato dos rótulos\n",
    "\n",
    "fig.show()\n"
   ]
  }
 ],
 "metadata": {
  "kernelspec": {
   "display_name": "Python 3 (ipykernel)",
   "language": "python",
   "name": "python3"
  },
  "language_info": {
   "codemirror_mode": {
    "name": "ipython",
    "version": 3
   },
   "file_extension": ".py",
   "mimetype": "text/x-python",
   "name": "python",
   "nbconvert_exporter": "python",
   "pygments_lexer": "ipython3",
   "version": "3.11.3"
  }
 },
 "nbformat": 4,
 "nbformat_minor": 5
}
